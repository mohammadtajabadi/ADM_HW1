{
 "cells": [
  {
   "cell_type": "markdown",
   "metadata": {},
   "source": [
    "# ADM - HW1\n",
    "\n",
    "# Mohammad Tajabadi"
   ]
  },
  {
   "cell_type": "markdown",
   "metadata": {},
   "source": [
    "# "
   ]
  },
  {
   "cell_type": "markdown",
   "metadata": {},
   "source": [
    "# Problem 1"
   ]
  },
  {
   "cell_type": "markdown",
   "metadata": {},
   "source": [
    "## Introduction"
   ]
  },
  {
   "cell_type": "markdown",
   "metadata": {},
   "source": [
    "1 - Say \"Hello, World!\" With Python"
   ]
  },
  {
   "cell_type": "code",
   "execution_count": 2,
   "metadata": {},
   "outputs": [
    {
     "name": "stdout",
     "output_type": "stream",
     "text": [
      "Hello, World!\n"
     ]
    }
   ],
   "source": [
    "print(\"Hello, World!\")"
   ]
  },
  {
   "cell_type": "markdown",
   "metadata": {},
   "source": [
    "2 - Python If-Else"
   ]
  },
  {
   "cell_type": "code",
   "execution_count": 1,
   "metadata": {},
   "outputs": [
    {
     "name": "stdout",
     "output_type": "stream",
     "text": [
      "10\n",
      "Weird\n"
     ]
    }
   ],
   "source": [
    "if __name__ == '__main__':\n",
    "    n = int(input().strip())\n",
    "    if (n >= 1 and n <= 100):\n",
    "        if (n%2 != 0 or (n%2 ==0 and n>=6 and n <= 20)):\n",
    "            print('Weird')\n",
    "        elif (n%2 == 0 and (n >= 2 and n <= 5 or n>= 20)):\n",
    "            print('Not Weird')\n",
    "    else:\n",
    "        print(\"Not an acceptable value\")     "
   ]
  },
  {
   "cell_type": "markdown",
   "metadata": {},
   "source": [
    "3 - Arithmetic Operators"
   ]
  },
  {
   "cell_type": "code",
   "execution_count": null,
   "metadata": {},
   "outputs": [],
   "source": [
    "if __name__ == '__main__':\n",
    "    a = int(input())\n",
    "    b = int(input())\n",
    "    print(a+b)\n",
    "    print(a-b)\n",
    "    print(a*b)"
   ]
  },
  {
   "cell_type": "markdown",
   "metadata": {},
   "source": [
    "4 - Python: Division"
   ]
  },
  {
   "cell_type": "code",
   "execution_count": null,
   "metadata": {},
   "outputs": [],
   "source": [
    "if __name__ == '__main__':\n",
    "    a = int(input())\n",
    "    b = int(input())\n",
    "    print(a//b)\n",
    "    print(a/b)"
   ]
  },
  {
   "cell_type": "markdown",
   "metadata": {},
   "source": [
    "5 - Loops"
   ]
  },
  {
   "cell_type": "code",
   "execution_count": null,
   "metadata": {},
   "outputs": [],
   "source": [
    "if __name__ == '__main__':\n",
    "    n = int(input())\n",
    "    for i in range(n):\n",
    "        print(i**2)"
   ]
  },
  {
   "cell_type": "markdown",
   "metadata": {},
   "source": [
    "6 - Write a Function"
   ]
  },
  {
   "cell_type": "code",
   "execution_count": null,
   "metadata": {},
   "outputs": [],
   "source": [
    "def is_leap(year):\n",
    "    leap = False\n",
    "    \n",
    "    if year % 4 == 0:\n",
    "        leap = True\n",
    "        if year % 100 == 0:\n",
    "            leap = False\n",
    "            if year % 400 == 0:\n",
    "                leap = True\n",
    "    \n",
    "    return leap\n",
    "\n",
    "year = int(input())\n",
    "print(is_leap(year))"
   ]
  },
  {
   "cell_type": "markdown",
   "metadata": {},
   "source": [
    "7 - Print Function"
   ]
  },
  {
   "cell_type": "code",
   "execution_count": 1,
   "metadata": {},
   "outputs": [
    {
     "name": "stdout",
     "output_type": "stream",
     "text": [
      "5\n",
      "12345"
     ]
    }
   ],
   "source": [
    "if __name__ == '__main__':\n",
    "    n = int(input())\n",
    "    for i in range(n):\n",
    "        print(i+1, end='')"
   ]
  },
  {
   "cell_type": "markdown",
   "metadata": {},
   "source": [
    "## Data Types"
   ]
  },
  {
   "cell_type": "markdown",
   "metadata": {},
   "source": [
    "8 - List Comprehensions"
   ]
  },
  {
   "cell_type": "code",
   "execution_count": 4,
   "metadata": {},
   "outputs": [
    {
     "name": "stdout",
     "output_type": "stream",
     "text": [
      "1\n",
      "1\n",
      "2\n",
      "2\n",
      "[[0, 0, 0], [0, 0, 1], [0, 1, 0], [0, 1, 2], [1, 0, 0], [1, 0, 2], [1, 1, 1], [1, 1, 2]]\n"
     ]
    }
   ],
   "source": [
    "if __name__ == '__main__':\n",
    "    x = int(input())\n",
    "    y = int(input())\n",
    "    z = int(input())\n",
    "    n = int(input())\n",
    "    l = list([i,j,k] for i in range (x+1) for j in range (y+1) for k in range (z+1) if i+j+k != n)\n",
    "    print (l)"
   ]
  },
  {
   "cell_type": "markdown",
   "metadata": {},
   "source": [
    "9 - Find the Runner-Up Score!"
   ]
  },
  {
   "cell_type": "code",
   "execution_count": 29,
   "metadata": {},
   "outputs": [
    {
     "name": "stdout",
     "output_type": "stream",
     "text": [
      "5\n",
      "7 4 7 2 5\n",
      "5\n"
     ]
    }
   ],
   "source": [
    "if __name__ == '__main__':\n",
    "    n = int(input())\n",
    "    arr = list(map(int, input().split()))\n",
    "    maximum = max(arr)\n",
    "    new_list = [i for i in arr if i != maximum]\n",
    "    print(max(new_list))"
   ]
  },
  {
   "cell_type": "markdown",
   "metadata": {},
   "source": [
    "10 - Nested Lists"
   ]
  },
  {
   "cell_type": "code",
   "execution_count": 42,
   "metadata": {},
   "outputs": [
    {
     "name": "stdout",
     "output_type": "stream",
     "text": [
      "2\n",
      "a\n",
      "20\n",
      "b\n",
      "30\n",
      "b\n"
     ]
    }
   ],
   "source": [
    "if __name__ == '__main__':\n",
    "    l1 = []\n",
    "    for _ in range(int(input())):\n",
    "        name = input()\n",
    "        score = float(input())\n",
    "        l1.append([name, score])\n",
    "    scores = [a[1] for a in l1]\n",
    "    min1 = min(scores)\n",
    "    l2 = [x for x in l1 if x[1]!=min1]\n",
    "    scores = [a[1] for a in l2]\n",
    "    min2 = min(scores)\n",
    "    l3 = [x for x in l2 if x[1]==min2]\n",
    "    names = [a[0] for a in l3]\n",
    "    names.sort()\n",
    "    for name in names:\n",
    "        print(name)"
   ]
  },
  {
   "cell_type": "markdown",
   "metadata": {},
   "source": [
    "11 - Finding the percentage"
   ]
  },
  {
   "cell_type": "code",
   "execution_count": null,
   "metadata": {},
   "outputs": [
    {
     "name": "stdout",
     "output_type": "stream",
     "text": [
      "3\n"
     ]
    }
   ],
   "source": [
    "if __name__ == '__main__':\n",
    "    n = int(input())\n",
    "    student_marks = {}\n",
    "    for _ in range(n):\n",
    "        name, *line = input().split()\n",
    "        scores = list(map(float, line))\n",
    "        student_marks[name] = scores\n",
    "    query_name = input()\n",
    "    scores = student_marks[query_name]\n",
    "    print(\"{:.2f}\".format(sum(scores)/len(scores)))"
   ]
  },
  {
   "cell_type": "markdown",
   "metadata": {},
   "source": [
    "12 - Lists"
   ]
  },
  {
   "cell_type": "code",
   "execution_count": null,
   "metadata": {},
   "outputs": [],
   "source": [
    "if __name__ == '__main__':\n",
    "    N = int(input())\n",
    "    operations = []\n",
    "    l = []\n",
    "    for i in range(N):\n",
    "        op = input().split()\n",
    "        operations.append(op)\n",
    "    for i in range(len(operations)):\n",
    "        if operations[i][0] == 'insert':\n",
    "            num = int(operations[i][1])\n",
    "            pos = int(operations[i][2])\n",
    "            l.insert(num,pos)\n",
    "        elif operations[i][0] == 'print':\n",
    "            print(l)\n",
    "        elif operations[i][0] == 'remove':\n",
    "            l.remove(int(operations[i][1]))\n",
    "        elif operations[i][0] == 'append':\n",
    "            l.append(int(operations[i][1]))\n",
    "        elif operations[i][0] == 'sort':\n",
    "            l.sort()\n",
    "        elif operations[i][0] == 'pop':\n",
    "            l.pop()\n",
    "        elif operations[i][0] == 'reverse':\n",
    "            l.reverse()"
   ]
  },
  {
   "cell_type": "markdown",
   "metadata": {},
   "source": [
    "13 - Tuples"
   ]
  },
  {
   "cell_type": "code",
   "execution_count": 15,
   "metadata": {},
   "outputs": [
    {
     "name": "stdout",
     "output_type": "stream",
     "text": [
      "2\n",
      "3 4\n",
      "(3, 4)\n"
     ]
    }
   ],
   "source": [
    "if __name__ == '__main__':\n",
    "    n = int(input())\n",
    "    integer_list = map(int, input().split())\n",
    "    t = tuple(integer_list)\n",
    "    print (t)"
   ]
  },
  {
   "cell_type": "markdown",
   "metadata": {},
   "source": [
    "## Strings"
   ]
  },
  {
   "cell_type": "markdown",
   "metadata": {},
   "source": [
    "14 - sWAP cASE"
   ]
  },
  {
   "cell_type": "code",
   "execution_count": 3,
   "metadata": {},
   "outputs": [
    {
     "name": "stdout",
     "output_type": "stream",
     "text": [
      "input string: Black boX: oK?\n",
      "bLACK BOx: Ok?\n"
     ]
    }
   ],
   "source": [
    "def swap_case(s):\n",
    "    new_str = \"\"\n",
    "    for char in s:\n",
    "        if char.islower():\n",
    "            new_str += char.upper()\n",
    "        elif char.isupper():\n",
    "            new_str += char.lower()\n",
    "        else:\n",
    "            new_str += char\n",
    "    return new_str\n",
    "\n",
    "if __name__ == '__main__':\n",
    "    s = input()\n",
    "    result = swap_case(s)\n",
    "    print(result)"
   ]
  },
  {
   "cell_type": "markdown",
   "metadata": {},
   "source": [
    "15 - String Split and Join"
   ]
  },
  {
   "cell_type": "code",
   "execution_count": null,
   "metadata": {},
   "outputs": [],
   "source": [
    "def split_and_join(line):\n",
    "\n",
    "    splited = line.split(\" \")\n",
    "    result = \"-\".join(splited)\n",
    "    \n",
    "    return result\n",
    "\n",
    "if __name__ == '__main__':\n",
    "    line = input()\n",
    "    result = split_and_join(line)\n",
    "    print(result)"
   ]
  },
  {
   "cell_type": "markdown",
   "metadata": {},
   "source": [
    "16 - What's Your Name?"
   ]
  },
  {
   "cell_type": "code",
   "execution_count": 9,
   "metadata": {},
   "outputs": [
    {
     "name": "stdout",
     "output_type": "stream",
     "text": [
      "Sam\n",
      "Harris\n",
      "Hello Sam Harris! You just delved into python.\n"
     ]
    }
   ],
   "source": [
    "#\n",
    "# Complete the 'print_full_name' function below.\n",
    "#\n",
    "# The function is expected to return a STRING.\n",
    "# The function accepts following parameters:\n",
    "#  1. STRING first\n",
    "#  2. STRING last\n",
    "#\n",
    "\n",
    "def print_full_name(first, last):\n",
    "    s1 = \"Hello \"\n",
    "    s2 = \"! You just delved into python.\"\n",
    "    s = s1 + first +\" \"+ last + s2\n",
    "    print(s)\n",
    "\n",
    "if __name__ == '__main__':\n",
    "    first_name = input()\n",
    "    last_name = input()\n",
    "    print_full_name(first_name, last_name)"
   ]
  },
  {
   "cell_type": "markdown",
   "metadata": {},
   "source": [
    "17 - Mutations"
   ]
  },
  {
   "cell_type": "code",
   "execution_count": 17,
   "metadata": {},
   "outputs": [
    {
     "name": "stdout",
     "output_type": "stream",
     "text": [
      "abcd\n",
      "2 z\n",
      "abzd\n"
     ]
    }
   ],
   "source": [
    "def mutate_string(string, position, character):\n",
    "    l = list(string)\n",
    "    l[position] = character\n",
    "    result = ''.join(l)\n",
    "    \n",
    "    return result\n",
    "if __name__ == '__main__':\n",
    "    s = input()\n",
    "    i, c = input().split()\n",
    "    s_new = mutate_string(s, int(i), c)\n",
    "    print(s_new)"
   ]
  },
  {
   "cell_type": "markdown",
   "metadata": {},
   "source": [
    "18 - Find a string"
   ]
  },
  {
   "cell_type": "code",
   "execution_count": 23,
   "metadata": {},
   "outputs": [
    {
     "name": "stdout",
     "output_type": "stream",
     "text": [
      "1\n"
     ]
    }
   ],
   "source": [
    "def count_substring(string, sub_string):\n",
    "    result = 0\n",
    "    sub_len = len(sub_string)\n",
    "    for i in range(len(string)):\n",
    "        if string[i:i+sub_len] == sub_string:\n",
    "            result += 1\n",
    "    return result\n",
    "\n",
    "if __name__ == '__main__':\n",
    "    string = input().strip()\n",
    "    sub_string = input().strip()\n",
    "    \n",
    "    count = count_substring(string, sub_string)\n",
    "    print(count)"
   ]
  },
  {
   "cell_type": "markdown",
   "metadata": {},
   "source": [
    "19 - String Validators"
   ]
  },
  {
   "cell_type": "code",
   "execution_count": null,
   "metadata": {},
   "outputs": [],
   "source": [
    "if __name__ == '__main__':\n",
    "    s = input()\n",
    "    alnum = False\n",
    "    alpha = False\n",
    "    digit = False\n",
    "    lower = False\n",
    "    upper = False\n",
    "    \n",
    "    for char in s:\n",
    "        if char.isalnum():\n",
    "            alnum = True\n",
    "        if char.isalpha():\n",
    "            alpha = True\n",
    "        if char.isdigit():\n",
    "            digit = True\n",
    "        if char.islower():\n",
    "            lower = True\n",
    "        if char.isupper():\n",
    "            upper = True\n",
    "    print(alnum)\n",
    "    print(alpha)\n",
    "    print(digit)\n",
    "    print(lower)\n",
    "    print(upper)"
   ]
  },
  {
   "cell_type": "markdown",
   "metadata": {},
   "source": [
    "20 - Text Alignment"
   ]
  },
  {
   "cell_type": "code",
   "execution_count": null,
   "metadata": {},
   "outputs": [],
   "source": [
    "#Replace all ______ with rjust, ljust or center. \n",
    "\n",
    "thickness = int(input()) #This must be an odd number\n",
    "c = 'H'\n",
    "\n",
    "#Top Cone\n",
    "for i in range(thickness):\n",
    "    print((c*i).rjust(thickness-1)+c+(c*i).ljust(thickness-1))\n",
    "\n",
    "#Top Pillars\n",
    "for i in range(thickness+1):\n",
    "    print((c*thickness).center(thickness*2)+(c*thickness).center(thickness*6))\n",
    "\n",
    "#Middle Belt\n",
    "for i in range((thickness+1)//2):\n",
    "    print((c*thickness*5).center(thickness*6))    \n",
    "\n",
    "#Bottom Pillars\n",
    "for i in range(thickness+1):\n",
    "    print((c*thickness).center(thickness*2)+(c*thickness).center(thickness*6))    \n",
    "\n",
    "#Bottom Cone\n",
    "for i in range(thickness):\n",
    "    print(((c*(thickness-i-1)).rjust(thickness)+c+(c*(thickness-i-1)).ljust(thickness)).rjust(thickness*6))"
   ]
  },
  {
   "cell_type": "markdown",
   "metadata": {},
   "source": [
    "21 - Text Wrap"
   ]
  },
  {
   "cell_type": "code",
   "execution_count": 1,
   "metadata": {},
   "outputs": [
    {
     "name": "stdout",
     "output_type": "stream",
     "text": [
      "mystring 3\n",
      "2\n",
      "my\n",
      "st\n",
      "ri\n",
      "ng\n",
      " 3\n",
      "\n",
      "\n"
     ]
    }
   ],
   "source": [
    "import textwrap\n",
    "\n",
    "def wrap(string, max_width):\n",
    "\n",
    "    str_len = len(string)\n",
    "    num_strs = str_len//max_width + 1\n",
    "    par = \"\"\n",
    "    for i in range(num_strs):\n",
    "        par = par + string[i*max_width:(i+1)*max_width] + \"\\n\"\n",
    "    \n",
    "    return par\n",
    "\n",
    "if __name__ == '__main__':\n",
    "    string, max_width = input(), int(input())\n",
    "    result = wrap(string, max_width)\n",
    "    print(result)"
   ]
  },
  {
   "cell_type": "markdown",
   "metadata": {},
   "source": [
    "22 - Designer Door Mat"
   ]
  },
  {
   "cell_type": "code",
   "execution_count": null,
   "metadata": {},
   "outputs": [],
   "source": [
    "# Enter your code here. Read input from STDIN. Print output to STDOUT\n",
    "n,m = map(int,input().split())\n",
    "design = [((\".|.\")*(2*i+1)).center(m,'-') for i in range(n//2)]\n",
    "print('\\n'.join( design + [\"WELCOME\".center(m,'-')] + design[::-1]))"
   ]
  },
  {
   "cell_type": "markdown",
   "metadata": {},
   "source": [
    "23 - String Formatting"
   ]
  },
  {
   "cell_type": "code",
   "execution_count": 1,
   "metadata": {},
   "outputs": [
    {
     "name": "stdout",
     "output_type": "stream",
     "text": [
      "4\n",
      "  1   1   1   1\n",
      "  2   2   2  10\n",
      "  3   3   3  11\n",
      "  4   4   4 100\n"
     ]
    }
   ],
   "source": [
    "def print_formatted(number):\n",
    "    X = len(str(bin(number)).replace('0b',''))\n",
    "    for i in range(1, number+1):   \n",
    "        d = str(i).rjust(X,' ')\n",
    "        b = bin(i)[2:].rjust(X,' ')   ## rjust is used for line alignment\n",
    "        o = oct(i)[2:].rjust(X, ' ')\n",
    "        h = hex(i)[2:].rjust(X, ' ').upper()\n",
    "        print(d, o, h, b)\n",
    "\n",
    "if __name__ == '__main__':\n",
    "    n = int(input())\n",
    "    print_formatted(n)"
   ]
  },
  {
   "cell_type": "markdown",
   "metadata": {},
   "source": [
    "24 - Alphabet Rangoli"
   ]
  },
  {
   "cell_type": "code",
   "execution_count": null,
   "metadata": {},
   "outputs": [],
   "source": [
    "def print_rangoli(size):\n",
    "    alphabets = \"abcdefghijklmnopqrstuvwxyz\"\n",
    "    \n",
    "    l = [alphabets[i] for i in range(n)]\n",
    "    al = list(range(n))\n",
    "    al = al[:-1]+al[::-1]\n",
    "    \n",
    "    for i in al:\n",
    "        t = l[-(i+1):]\n",
    "        r = t[::-1]+t[1:]\n",
    "        print(\"-\".join(r).center(n*4-3, \"-\"))\n",
    "\n",
    "if __name__ == '__main__':\n",
    "    n = int(input())\n",
    "    print_rangoli(n)"
   ]
  },
  {
   "cell_type": "markdown",
   "metadata": {},
   "source": [
    "25 - Capitalize!"
   ]
  },
  {
   "cell_type": "code",
   "execution_count": 34,
   "metadata": {},
   "outputs": [
    {
     "name": "stdout",
     "output_type": "stream",
     "text": [
      "ali javani\n",
      "Ali Javani\n"
     ]
    }
   ],
   "source": [
    "#!/bin/python3\n",
    "\n",
    "import math\n",
    "import os\n",
    "import random\n",
    "import re\n",
    "import sys\n",
    "\n",
    "# Complete the solve function below.\n",
    "def solve(s):\n",
    "    for name in s.split():\n",
    "        s = s.replace(name, name.capitalize())\n",
    "    return s\n",
    "    \n",
    "\n",
    "if __name__ == '__main__':\n",
    "    fptr = open(os.environ['OUTPUT_PATH'], 'w')\n",
    "\n",
    "    s = input()\n",
    "\n",
    "    result = solve(s)\n",
    "\n",
    "    fptr.write(result + '\\n')\n",
    "\n",
    "    fptr.close()"
   ]
  },
  {
   "cell_type": "markdown",
   "metadata": {},
   "source": [
    "26 - The Minion Game"
   ]
  },
  {
   "cell_type": "code",
   "execution_count": 1,
   "metadata": {},
   "outputs": [
    {
     "name": "stdout",
     "output_type": "stream",
     "text": [
      "BANANA\n",
      "Stuart 12\n"
     ]
    }
   ],
   "source": [
    "def minion_game(string):\n",
    "    kevin = 0\n",
    "    stuart = 0\n",
    "    for i in range(len(string)):\n",
    "        if string[i] in \"AEIOU\":\n",
    "            kevin=kevin+len(string)-i\n",
    "        else:\n",
    "            stuart=stuart+len(string)-i\n",
    "            \n",
    "    if kevin>stuart:\n",
    "        print(\"Kevin\", kevin)      \n",
    "    elif stuart>kevin:\n",
    "        print(\"Stuart\", stuart)\n",
    "    else:\n",
    "        print(\"Draw\")\n",
    "\n",
    "if __name__ == '__main__':\n",
    "    s = input()\n",
    "    minion_game(s)"
   ]
  },
  {
   "cell_type": "markdown",
   "metadata": {},
   "source": [
    "27 - Merge the Tools!"
   ]
  },
  {
   "cell_type": "code",
   "execution_count": 7,
   "metadata": {},
   "outputs": [
    {
     "name": "stdout",
     "output_type": "stream",
     "text": [
      "aaabbbccc\n",
      "3\n",
      "a\n",
      "b\n",
      "c\n"
     ]
    }
   ],
   "source": [
    "def merge_the_tools(string, k):\n",
    "    s = []\n",
    "    for i in range(len(string)//k):\n",
    "        s.append(string[i*k:(i+1)*k])\n",
    "    result = []\n",
    "    for sub_str in s:\n",
    "        sub = \"\"\n",
    "        for char in sub_str:\n",
    "            if char in sub:\n",
    "                continue\n",
    "            sub += char\n",
    "        result.append(sub)\n",
    "    for s in result:\n",
    "        print (s)\n",
    "\n",
    "if __name__ == '__main__':\n",
    "    string, k = input(), int(input())\n",
    "    merge_the_tools(string, k)"
   ]
  },
  {
   "cell_type": "markdown",
   "metadata": {},
   "source": [
    "## Sets"
   ]
  },
  {
   "cell_type": "markdown",
   "metadata": {},
   "source": [
    "28 - Introduction to Sets"
   ]
  },
  {
   "cell_type": "code",
   "execution_count": 13,
   "metadata": {},
   "outputs": [
    {
     "name": "stdout",
     "output_type": "stream",
     "text": [
      "3\n",
      "1 2 3\n",
      "2.000\n"
     ]
    }
   ],
   "source": [
    "def average(array):\n",
    "    the_set = set(array)\n",
    "    s = sum(the_set)\n",
    "    n = len(the_set)\n",
    "    avg = \"{:.3f}\".format(s/n)\n",
    "    return avg\n",
    "\n",
    "if __name__ == '__main__':\n",
    "    n = int(input())\n",
    "    arr = list(map(int, input().split()))\n",
    "    result = average(arr)\n",
    "    print(result)"
   ]
  },
  {
   "cell_type": "markdown",
   "metadata": {},
   "source": [
    "29 - No Idea!"
   ]
  },
  {
   "cell_type": "code",
   "execution_count": 20,
   "metadata": {},
   "outputs": [
    {
     "name": "stdout",
     "output_type": "stream",
     "text": [
      "4 3\n",
      "1234\n",
      "1 2 3\n",
      "3 4 5\n",
      "0\n"
     ]
    }
   ],
   "source": [
    "# Enter your code here. Read input from STDIN. Print output to STDOUT\n",
    "n, m = map(int, input().split())\n",
    "arr = map(int, input().split())\n",
    "A = set(map(int, input().split()))\n",
    "B = set(map(int, input().split()))\n",
    "\n",
    "happiness = 0\n",
    "for num in arr:\n",
    "    if num in A:\n",
    "        happiness += 1\n",
    "    elif num in B:\n",
    "        happiness -= 1\n",
    "        \n",
    "print(happiness)\n",
    "    "
   ]
  },
  {
   "cell_type": "markdown",
   "metadata": {},
   "source": [
    "30 - Symmetric Difference"
   ]
  },
  {
   "cell_type": "code",
   "execution_count": null,
   "metadata": {},
   "outputs": [],
   "source": [
    "# Enter your code here. Read input from STDIN. Print output to STDOUT\n",
    "M = int(input())\n",
    "a = set(map(int, input().split()))\n",
    "N = int(input())\n",
    "b = set(map(int, input().split()))\n",
    "\n",
    "a_diff_b = a.difference(b)\n",
    "b_diff_a = b.difference(a)\n",
    "result = a_diff_b.union(b_diff_a)\n",
    "result = sorted(result)\n",
    "\n",
    "for num in result:\n",
    "    print (num)"
   ]
  },
  {
   "cell_type": "markdown",
   "metadata": {},
   "source": [
    "31 - Set .add()"
   ]
  },
  {
   "cell_type": "code",
   "execution_count": 23,
   "metadata": {},
   "outputs": [
    {
     "name": "stdout",
     "output_type": "stream",
     "text": [
      "2\n",
      "a\n",
      "b\n",
      "2\n"
     ]
    }
   ],
   "source": [
    "# Enter your code here. Read input from STDIN. Print output to STDOUT\n",
    "N = int(input())\n",
    "countries=set()\n",
    "for i in range(N):\n",
    "    countries.add(input())\n",
    "print(len(countries))"
   ]
  },
  {
   "cell_type": "markdown",
   "metadata": {},
   "source": [
    "32 - Set .discard(), .remove() & .pop()"
   ]
  },
  {
   "cell_type": "code",
   "execution_count": null,
   "metadata": {},
   "outputs": [],
   "source": [
    "n = int(input())\n",
    "s = set(map(int, input().split()))\n",
    "\n",
    "N = int(input())\n",
    "for i in range(N):\n",
    "    operation = input().split()\n",
    "    if operation[0] == \"remove\":\n",
    "        s.remove(int(operation[1]))\n",
    "    elif operation[0] == \"discard\":\n",
    "        s.discard(int(operation[1]))\n",
    "    else:\n",
    "        s.pop()\n",
    "    \n",
    "print(sum(s))\n"
   ]
  },
  {
   "cell_type": "markdown",
   "metadata": {},
   "source": [
    "32 - Set .union() Operation"
   ]
  },
  {
   "cell_type": "code",
   "execution_count": null,
   "metadata": {},
   "outputs": [],
   "source": [
    "# Enter your code here. Read input from STDIN. Print output to STDOUT\n",
    "n = int(input())\n",
    "en = set(map(int, input().split()))\n",
    "b = int(input())\n",
    "fr = set(map(int, input().split()))\n",
    "\n",
    "print(len(en.union(fr)))"
   ]
  },
  {
   "cell_type": "markdown",
   "metadata": {},
   "source": [
    "33 - Set .intersection() Operation"
   ]
  },
  {
   "cell_type": "code",
   "execution_count": null,
   "metadata": {},
   "outputs": [],
   "source": [
    "# Enter your code here. Read input from STDIN. Print output to STDOUT\n",
    "n = int(input())\n",
    "en = set(map(int, input().split()))\n",
    "b = int(input())\n",
    "fr = set(map(int, input().split()))\n",
    "\n",
    "print(len(en.intersection(fr)))"
   ]
  },
  {
   "cell_type": "markdown",
   "metadata": {},
   "source": [
    "34 - Set .difference() Operation"
   ]
  },
  {
   "cell_type": "code",
   "execution_count": null,
   "metadata": {},
   "outputs": [],
   "source": [
    "# Enter your code here. Read input from STDIN. Print output to STDOUT\n",
    "n = int(input())\n",
    "en = set(map(int, input().split()))\n",
    "b = int(input())\n",
    "fr = set(map(int, input().split()))\n",
    "\n",
    "print(len(en.difference(fr)))"
   ]
  },
  {
   "cell_type": "markdown",
   "metadata": {},
   "source": [
    "35 - Set .symmetric_difference() Operation"
   ]
  },
  {
   "cell_type": "code",
   "execution_count": null,
   "metadata": {},
   "outputs": [],
   "source": [
    "# Enter your code here. Read input from STDIN. Print output to STDOUT\n",
    "n = int(input())\n",
    "en = set(map(int, input().split()))\n",
    "b = int(input())\n",
    "fr = set(map(int, input().split()))\n",
    "\n",
    "print(len(en.difference(fr).union(fr.difference(en))))"
   ]
  },
  {
   "cell_type": "markdown",
   "metadata": {},
   "source": [
    "36 - Set Mutations"
   ]
  },
  {
   "cell_type": "code",
   "execution_count": null,
   "metadata": {},
   "outputs": [],
   "source": [
    "# Enter your code here. Read input from STDIN. Print output to STDOUT\n",
    "n = int(input())\n",
    "A = set(map(int,input().split()))\n",
    "N = int(input())\n",
    "\n",
    "for i in range(N):\n",
    "    \n",
    "    c = input().split()\n",
    "    op = c[0]\n",
    "    s = set(map(int,input().split()))\n",
    "    if (op == 'update'):\n",
    "        A |= s\n",
    "    elif (op == 'intersection_update'):\n",
    "        A &= s\n",
    "    elif (op == 'difference_update'):\n",
    "        A -= s\n",
    "    elif (op == 'symmetric_difference_update'):\n",
    "        A ^= s\n",
    "        \n",
    "print(sum(A))"
   ]
  },
  {
   "cell_type": "markdown",
   "metadata": {},
   "source": [
    "37 - The Captain's Room"
   ]
  },
  {
   "cell_type": "code",
   "execution_count": null,
   "metadata": {},
   "outputs": [],
   "source": [
    "# Enter your code here. Read input from STDIN. Print output to STDOUT\n",
    "K = int(input())\n",
    "arr = list(map(int, input().split()))\n",
    "s = set(arr)\n",
    "print(((sum(s)*K)-(sum(arr)))//(K-1))"
   ]
  },
  {
   "cell_type": "markdown",
   "metadata": {},
   "source": [
    "38 - Check Subset"
   ]
  },
  {
   "cell_type": "code",
   "execution_count": null,
   "metadata": {},
   "outputs": [],
   "source": [
    "# Enter your code here. Read input from STDIN. Print output to STDOUT\n",
    "T = int(input())\n",
    "for i in range(T):\n",
    "    nA = input()\n",
    "    A = set(input().split())\n",
    "    nB = input()\n",
    "    B = set(input().split())\n",
    "    print(A.issubset(B))"
   ]
  },
  {
   "cell_type": "markdown",
   "metadata": {},
   "source": [
    "39 - Check Strict Superset"
   ]
  },
  {
   "cell_type": "code",
   "execution_count": null,
   "metadata": {},
   "outputs": [],
   "source": [
    "# Enter your code here. Read input from STDIN. Print output to STDOUT\n",
    "A = set(map(int, input().split()))\n",
    "N = int(input())\n",
    "flag = True\n",
    "\n",
    "for i in range(N):\n",
    "    B = set(map(int, input().split()))\n",
    "    check = B.issubset(A) and not(A.issubset(B))\n",
    "    flag &= check\n",
    "    \n",
    "print(flag)"
   ]
  },
  {
   "cell_type": "markdown",
   "metadata": {},
   "source": [
    "## Collections"
   ]
  },
  {
   "cell_type": "markdown",
   "metadata": {},
   "source": [
    "40 - collections.Counter()"
   ]
  },
  {
   "cell_type": "code",
   "execution_count": null,
   "metadata": {},
   "outputs": [],
   "source": [
    "# Enter your code here. Read input from STDIN. Print output to STDOUT\n",
    "from collections import Counter\n",
    "counter = Counter()\n",
    "X = int(input())\n",
    "sizes = list(map(int, input().split()))\n",
    "N = int(input())\n",
    "for i in range(N):\n",
    "    size, price = map(int, input().split())\n",
    "    \n",
    "    if (size in sizes):\n",
    "        counter[size] = counter.get(size, 0)+price\n",
    "        sizes.remove(size)\n",
    "print(sum(counter.values()))"
   ]
  },
  {
   "cell_type": "markdown",
   "metadata": {},
   "source": [
    "41 - DefaultDict Tutorial"
   ]
  },
  {
   "cell_type": "code",
   "execution_count": null,
   "metadata": {},
   "outputs": [],
   "source": [
    "# Enter your code here. Read input from STDIN. Print output to STDOUT\n",
    "from collections import defaultdict\n",
    "\n",
    "dd = defaultdict(list)\n",
    "l = []\n",
    "n, m = map(int,input().split())\n",
    "for i in range(1, n+1):\n",
    "    w = input()\n",
    "    dd[w].append(str(i))\n",
    "\n",
    "\n",
    "for i in range(m):\n",
    "    x = input()\n",
    "    if x in dd: \n",
    "        print(' '.join(dd[x]))\n",
    "    else: \n",
    "        print(-1)"
   ]
  },
  {
   "cell_type": "markdown",
   "metadata": {},
   "source": [
    "42 - Collections.namedtuple()"
   ]
  },
  {
   "cell_type": "code",
   "execution_count": null,
   "metadata": {},
   "outputs": [],
   "source": [
    "# Enter your code here. Read input from STDIN. Print output to STDOUT\n",
    "N = int(input())\n",
    "cols = list(input().split())\n",
    "s = 0\n",
    "for i in range(N):\n",
    "    s += int(list(input().split())[cols.index('MARKS')])\n",
    "print(s/N)"
   ]
  },
  {
   "cell_type": "markdown",
   "metadata": {},
   "source": [
    "43 - Collections.OrderedDict()"
   ]
  },
  {
   "cell_type": "code",
   "execution_count": null,
   "metadata": {},
   "outputs": [],
   "source": [
    "# Enter your code here. Read input from STDIN. Print output to STDOUT\n",
    "from collections import OrderedDict\n",
    "dic = OrderedDict()\n",
    "N = int(input())\n",
    "\n",
    "for _ in range(N):\n",
    "    trans = list(input().split())\n",
    "    temp = trans[:len(trans)-1]\n",
    "    item = \" \".join(x for x in temp)\n",
    "    price = int(trans[-1])\n",
    "    dic[item] = dic.get(item, 0)+ price\n",
    "\n",
    "for key, value in dic.items():\n",
    "    print (key, value)"
   ]
  },
  {
   "cell_type": "markdown",
   "metadata": {},
   "source": [
    "44 - Word Order"
   ]
  },
  {
   "cell_type": "code",
   "execution_count": null,
   "metadata": {},
   "outputs": [],
   "source": [
    "# Enter your code here. Read input from STDIN. Print output to STDOUT\n",
    "from collections import OrderedDict\n",
    "\n",
    "word_count = OrderedDict()\n",
    "n = int(input())\n",
    "for _ in range(n):\n",
    "    word = input()\n",
    "    word_count[word] = word_count.get(word, 0)+1\n",
    "print(len(word_count))\n",
    "for item in word_count:\n",
    "    print(word_count.get(item), end=\" \")\n",
    "\n"
   ]
  },
  {
   "cell_type": "markdown",
   "metadata": {},
   "source": [
    "45 - Collections.deque()\n",
    "\n"
   ]
  },
  {
   "cell_type": "code",
   "execution_count": null,
   "metadata": {},
   "outputs": [],
   "source": [
    "# Enter your code here. Read input from STDIN. Print output to STDOUT\n",
    "from collections import deque\n",
    "\n",
    "d = deque()\n",
    "\n",
    "for _ in range(int(input())):\n",
    "    ops = input().split()\n",
    "    if ops[0] == 'append':\n",
    "        d.append(ops[1])\n",
    "    elif ops[0] == 'pop':\n",
    "        d.pop()\n",
    "    elif ops[0] == 'popleft':\n",
    "        d.popleft()\n",
    "    elif ops[0] == 'appendleft':\n",
    "        d.appendleft(ops[1])\n",
    "for e in d:\n",
    "    print (e, end=' ')"
   ]
  },
  {
   "cell_type": "markdown",
   "metadata": {},
   "source": [
    "46 - Company Logo"
   ]
  },
  {
   "cell_type": "code",
   "execution_count": 28,
   "metadata": {},
   "outputs": [
    {
     "name": "stdout",
     "output_type": "stream",
     "text": [
      "aabbbccde\n",
      "b 3\n",
      "a 2\n",
      "c 2\n",
      "d 1\n",
      "e 1\n",
      "['b', 'a', 'c', 'd', 'e']\n",
      "[3, 2, 2, 1, 1]\n",
      "<zip object at 0x00000000050B0E40>\n"
     ]
    }
   ],
   "source": [
    "import math\n",
    "import os\n",
    "import random\n",
    "import re\n",
    "import sys\n",
    "\n",
    "if __name__ == '__main__':\n",
    "    s = input()\n",
    "    word_count = dict()\n",
    "    for char in s:\n",
    "        word_count[char] = word_count.get(char, 0)+1\n",
    "    words = [v[0] for v in sorted(word_count.items(), key=lambda kv: (-kv[1], kv[0]))]\n",
    "    counts = [v[1] for v in sorted(word_count.items(), key=lambda kv: (-kv[1], kv[0]))]\n",
    "    words=words[:3]\n",
    "    counts=counts[:3]\n",
    "    for item in zip(words, counts):\n",
    "        print(str(item[0])+' '+str(item[1]))"
   ]
  },
  {
   "cell_type": "markdown",
   "metadata": {},
   "source": [
    "47 - Piling Up!"
   ]
  },
  {
   "cell_type": "code",
   "execution_count": null,
   "metadata": {},
   "outputs": [],
   "source": [
    "# Enter your code here. Read input from STDIN. Print output to STDOUT\n",
    "def is_reverese_sorted(lst):\n",
    "    return sorted(lst) == list(reversed(lst))\n",
    "\n",
    "T = int(input())\n",
    "for _ in range(T):\n",
    "    check = False\n",
    "    n = int(input())\n",
    "    boxes = list(map(int, input().split()))\n",
    "    minimum = boxes.index(min(boxes))\n",
    "    left = boxes[:minimum]\n",
    "    right = boxes[minimum+1:]\n",
    "        \n",
    "    if is_reverese_sorted(left) and right == sorted(right):\n",
    "        print(\"Yes\")\n",
    "    else:\n",
    "        print(\"No\")"
   ]
  },
  {
   "cell_type": "markdown",
   "metadata": {},
   "source": [
    "## Date and Time"
   ]
  },
  {
   "cell_type": "markdown",
   "metadata": {},
   "source": [
    "48 - Calendar Module\n",
    "\n"
   ]
  },
  {
   "cell_type": "code",
   "execution_count": null,
   "metadata": {},
   "outputs": [],
   "source": [
    "# Enter your code here. Read input from STDIN. Print output to STDOUT\n",
    "import calendar\n",
    "\n",
    "M, D, Y = map(int,input().split())\n",
    "week_day = calendar.day_name[calendar.weekday(Y,M,D)].upper()\n",
    "print(week_day)"
   ]
  },
  {
   "cell_type": "markdown",
   "metadata": {},
   "source": [
    "49 - Time Delta"
   ]
  },
  {
   "cell_type": "code",
   "execution_count": null,
   "metadata": {},
   "outputs": [],
   "source": [
    "###"
   ]
  },
  {
   "cell_type": "markdown",
   "metadata": {},
   "source": [
    "## Exceptions"
   ]
  },
  {
   "cell_type": "markdown",
   "metadata": {},
   "source": [
    "50 - Exceptions"
   ]
  },
  {
   "cell_type": "code",
   "execution_count": 5,
   "metadata": {},
   "outputs": [
    {
     "name": "stdout",
     "output_type": "stream",
     "text": [
      "1\n",
      "2 3.4\n",
      "Error Code: invalid literal for int() with base 10: '3.4'\n"
     ]
    }
   ],
   "source": [
    "# Enter your code here. Read input from STDIN. Print output to STDOUT\n",
    "T = int(input())\n",
    "for _ in range (T):\n",
    "    try:\n",
    "        a, b = map(int,input().split())\n",
    "        print(a//b)\n",
    "    except Exception as e:\n",
    "        print(\"Error Code:\",e)"
   ]
  },
  {
   "cell_type": "markdown",
   "metadata": {},
   "source": [
    "## Built-ins"
   ]
  },
  {
   "cell_type": "markdown",
   "metadata": {},
   "source": [
    "51 - Zipped!\n"
   ]
  },
  {
   "cell_type": "code",
   "execution_count": null,
   "metadata": {},
   "outputs": [],
   "source": [
    "# Enter your code here. Read input from STDIN. Print output to STDOUT\n",
    "N, X = map(int, input().split())\n",
    "l1 = [list(map(float, input().split())) for i in range(X)]\n",
    "l2 = list(map(list, zip(*l1)))\n",
    "\n",
    "for stu in l2:\n",
    "    print (sum(stu)/len(stu))"
   ]
  },
  {
   "cell_type": "markdown",
   "metadata": {},
   "source": [
    "52 - Athlete Sort"
   ]
  },
  {
   "cell_type": "code",
   "execution_count": null,
   "metadata": {},
   "outputs": [],
   "source": [
    "import math\n",
    "import os\n",
    "import random\n",
    "import re\n",
    "import sys\n",
    "\n",
    "\n",
    "\n",
    "if __name__ == '__main__':\n",
    "    nm = input().split()\n",
    "\n",
    "    n = int(nm[0])\n",
    "\n",
    "    m = int(nm[1])\n",
    "\n",
    "    arr = []\n",
    "\n",
    "    for _ in range(n):\n",
    "        arr.append(list(map(int, input().rstrip().split())))\n",
    "\n",
    "    k = int(input())\n",
    "    \n",
    "    sorted_arr = sorted(arr, key = lambda r:r[k])\n",
    "    \n",
    "    for athlete in sorted_arr:\n",
    "        print(*athlete)"
   ]
  },
  {
   "cell_type": "markdown",
   "metadata": {},
   "source": [
    "53 - ginortS"
   ]
  },
  {
   "cell_type": "code",
   "execution_count": null,
   "metadata": {},
   "outputs": [],
   "source": [
    "# Enter your code here. Read input from STDIN. Print output to STDOUT\n",
    "S = list(input())\n",
    "lows = []\n",
    "ups = []\n",
    "even_digs = []\n",
    "odd_digs = []\n",
    "\n",
    "for char in S:\n",
    "    if char in '02468':\n",
    "        even_digs.append(char)\n",
    "    if char in '13579':\n",
    "        odd_digs.append(char)\n",
    "    elif char.upper() != char:\n",
    "        lows.append(char)\n",
    "    elif char.lower() != char:\n",
    "        ups.append(char)\n",
    "        \n",
    "lows = sorted(lows)\n",
    "ups = sorted(ups)\n",
    "evens = sorted(even_digs)\n",
    "odds = sorted(odd_digs)\n",
    "\n",
    "sorted_final = lows+ups+odds+evens\n",
    "result = \"\".join(sorted_final)\n",
    "print(result)"
   ]
  },
  {
   "cell_type": "markdown",
   "metadata": {},
   "source": [
    "## Python Functionals"
   ]
  },
  {
   "cell_type": "markdown",
   "metadata": {},
   "source": [
    "54 - Map and Lambda Function"
   ]
  },
  {
   "cell_type": "code",
   "execution_count": null,
   "metadata": {},
   "outputs": [],
   "source": [
    "cube = lambda x: x*x*x\n",
    "\n",
    "def fibonacci(n):\n",
    "    # return a list of fibonacci numbers\n",
    "    fib = [0,1]\n",
    "    for i in range(2,n):\n",
    "        fib.append(fib[i-2] + fib[i-1])\n",
    "    return fib[0:n]\n",
    "\n",
    "if __name__ == '__main__':\n",
    "    n = int(input())\n",
    "    print(list(map(cube, fibonacci(n))))"
   ]
  },
  {
   "cell_type": "markdown",
   "metadata": {},
   "source": [
    "## Regex and Parsing challenges"
   ]
  },
  {
   "cell_type": "markdown",
   "metadata": {},
   "source": [
    "55 - Detect Floating Point Number"
   ]
  },
  {
   "cell_type": "markdown",
   "metadata": {},
   "source": [
    "## Numpy"
   ]
  },
  {
   "cell_type": "markdown",
   "metadata": {},
   "source": [
    "Arrays"
   ]
  },
  {
   "cell_type": "code",
   "execution_count": null,
   "metadata": {},
   "outputs": [],
   "source": [
    "import numpy\n",
    "\n",
    "def arrays(arr):\n",
    "    arr = numpy.array(arr, float)\n",
    "    return numpy.flip(arr)\n",
    "    \n",
    "\n",
    "arr = input().strip().split(' ')\n",
    "result = arrays(arr)\n",
    "print(result)"
   ]
  },
  {
   "cell_type": "markdown",
   "metadata": {},
   "source": [
    "Shape and Reshape\n",
    "\n"
   ]
  },
  {
   "cell_type": "code",
   "execution_count": null,
   "metadata": {},
   "outputs": [],
   "source": [
    "import numpy\n",
    "\n",
    "arr = numpy.array(list(map(int, input().split())))\n",
    "arr = numpy.reshape(arr, (3,3))\n",
    "print(arr)"
   ]
  },
  {
   "cell_type": "markdown",
   "metadata": {},
   "source": [
    "Transpose and Flatten\n",
    "\n"
   ]
  },
  {
   "cell_type": "code",
   "execution_count": null,
   "metadata": {},
   "outputs": [],
   "source": [
    "import numpy\n",
    "\n",
    "N, M = map(int, input().split())\n",
    "l = []\n",
    "for _ in range(N):\n",
    "    l.append(list(map(int, input().split())))\n",
    "    arr = numpy.array(l)\n",
    "print(numpy.transpose(arr))\n",
    "print(arr.flatten())"
   ]
  },
  {
   "cell_type": "markdown",
   "metadata": {},
   "source": [
    "Concatenate\n",
    "\n"
   ]
  },
  {
   "cell_type": "code",
   "execution_count": null,
   "metadata": {},
   "outputs": [],
   "source": [
    "import numpy\n",
    "\n",
    "N, M, P = map(int, input().split())\n",
    "l1, l2 = [], []\n",
    "for _ in range(N):\n",
    "    l1.append(list(map(int, input().split())))\n",
    "    \n",
    "for _ in range(M):\n",
    "    l2.append(list(map(int, input().split())))\n",
    "\n",
    "arr1 = numpy.array(l1)\n",
    "arr2 = numpy.array(l2)\n",
    "print(numpy.concatenate((arr1, arr2), axis=0))"
   ]
  },
  {
   "cell_type": "markdown",
   "metadata": {},
   "source": [
    "Zeros and Ones"
   ]
  },
  {
   "cell_type": "code",
   "execution_count": null,
   "metadata": {},
   "outputs": [],
   "source": [
    "import numpy\n",
    "shape = tuple(map(int, input().split()))\n",
    "arr_0 = numpy.zeros((shape), dtype=int)\n",
    "arr_1 = numpy.ones((shape), dtype=int) \n",
    "\n",
    "print(arr_0)\n",
    "print(arr_1)"
   ]
  },
  {
   "cell_type": "markdown",
   "metadata": {},
   "source": [
    "Eye and Identity"
   ]
  },
  {
   "cell_type": "code",
   "execution_count": null,
   "metadata": {},
   "outputs": [],
   "source": [
    "import numpy\n",
    "numpy.set_printoptions(legacy='1.13')\n",
    "\n",
    "N, M = map(int, input().split())\n",
    "print (numpy.eye(N, M, k = 0))"
   ]
  },
  {
   "cell_type": "markdown",
   "metadata": {},
   "source": [
    "Array Mathematics"
   ]
  },
  {
   "cell_type": "code",
   "execution_count": null,
   "metadata": {},
   "outputs": [],
   "source": [
    "import numpy\n",
    "\n",
    "N, M = map(int, input().split())\n",
    "A, B = [], []\n",
    "for _ in range(N):\n",
    "    A.append(list(map(int, input().split())))\n",
    "for _ in range(N):\n",
    "    B.append(list(map(int, input().split())))\n",
    "A = numpy.array(A)\n",
    "B = numpy.array(B)\n",
    "\n",
    "print(A+B)\n",
    "print(A-B)\n",
    "print(A*B)\n",
    "print(A//B)\n",
    "print(A%B)\n",
    "print(A**B)"
   ]
  },
  {
   "cell_type": "markdown",
   "metadata": {},
   "source": [
    "Floor, Ceil and Rint"
   ]
  },
  {
   "cell_type": "code",
   "execution_count": null,
   "metadata": {},
   "outputs": [],
   "source": [
    "import numpy\n",
    "numpy.set_printoptions(legacy='1.13')\n",
    "A = numpy.array(list(map(float, input().split())))\n",
    "print(numpy.floor(A))\n",
    "print(numpy.ceil(A))\n",
    "print(numpy.rint(A))"
   ]
  },
  {
   "cell_type": "markdown",
   "metadata": {},
   "source": [
    "Sum and Prod"
   ]
  },
  {
   "cell_type": "code",
   "execution_count": null,
   "metadata": {},
   "outputs": [],
   "source": [
    "import numpy\n",
    "\n",
    "N, M = map(int, input().split())\n",
    "A = []\n",
    "for _ in range(N):\n",
    "    A.append(list(map(int, input().split())))\n",
    "A = numpy.array(A)\n",
    "\n",
    "print(numpy.prod(numpy.sum(A, axis=0)))"
   ]
  },
  {
   "cell_type": "markdown",
   "metadata": {},
   "source": [
    "Min and Max"
   ]
  },
  {
   "cell_type": "code",
   "execution_count": null,
   "metadata": {},
   "outputs": [],
   "source": [
    "import numpy\n",
    "\n",
    "N, M = map(int, input().split())\n",
    "A = []\n",
    "for _ in range(N):\n",
    "    A.append(list(map(int, input().split())))\n",
    "A = numpy.array(A)\n",
    "\n",
    "print(numpy.max(numpy.min(A, axis=1)))"
   ]
  },
  {
   "cell_type": "markdown",
   "metadata": {},
   "source": [
    "Mean, Var, and Std"
   ]
  },
  {
   "cell_type": "code",
   "execution_count": null,
   "metadata": {},
   "outputs": [],
   "source": [
    "import numpy\n",
    "\n",
    "\n",
    "N, M = map(int, input().split())\n",
    "A = []\n",
    "for _ in range(N):\n",
    "    A.append(list(map(int, input().split())))\n",
    "A = numpy.array(A)\n",
    "\n",
    "#numpy.set_printoptions(legacy='1.13')\n",
    "\n",
    "print(numpy.mean(A, axis=1))\n",
    "print(numpy.var(A, axis=0))\n",
    "print(round(numpy.std(A), 11))"
   ]
  },
  {
   "cell_type": "markdown",
   "metadata": {},
   "source": [
    "Dot and Cross"
   ]
  },
  {
   "cell_type": "code",
   "execution_count": null,
   "metadata": {},
   "outputs": [],
   "source": [
    "import numpy\n",
    "\n",
    "N = int(input())\n",
    "A = []\n",
    "B = []\n",
    "for _ in range(N):\n",
    "    A.append(list(map(int, input().split())))\n",
    "A = numpy.array(A)\n",
    "for _ in range(N):\n",
    "    B.append(list(map(int, input().split())))\n",
    "B = numpy.array(B)\n",
    "\n",
    "print(numpy.dot(A,B))"
   ]
  },
  {
   "cell_type": "markdown",
   "metadata": {},
   "source": [
    "Inner and Outer"
   ]
  },
  {
   "cell_type": "code",
   "execution_count": null,
   "metadata": {},
   "outputs": [],
   "source": [
    "import numpy\n",
    "\n",
    "A = numpy.array(list(map(int, input().split())))\n",
    "B = numpy.array(list(map(int, input().split())))\n",
    "\n",
    "print(numpy.inner(A,B))\n",
    "print(numpy.outer(A,B))"
   ]
  },
  {
   "cell_type": "markdown",
   "metadata": {},
   "source": [
    "Polynomials"
   ]
  },
  {
   "cell_type": "code",
   "execution_count": null,
   "metadata": {},
   "outputs": [],
   "source": [
    "import numpy\n",
    "\n",
    "P = numpy.array(list(map(float, input().split())))\n",
    "x = float(input())\n",
    "\n",
    "print(numpy.polyval(P,x))"
   ]
  },
  {
   "cell_type": "markdown",
   "metadata": {},
   "source": [
    "Linear Algebra"
   ]
  },
  {
   "cell_type": "code",
   "execution_count": null,
   "metadata": {},
   "outputs": [],
   "source": [
    "import numpy\n",
    "\n",
    "N = int(input())\n",
    "A = []\n",
    "for _ in range(N):\n",
    "    A.append(list(map(float, input().split())))\n",
    "A = numpy.array(A)\n",
    "\n",
    "print(numpy.round(numpy.linalg.det(A), decimals=2))"
   ]
  },
  {
   "cell_type": "markdown",
   "metadata": {},
   "source": [
    "# "
   ]
  },
  {
   "cell_type": "markdown",
   "metadata": {},
   "source": [
    "# Problem 2"
   ]
  },
  {
   "cell_type": "markdown",
   "metadata": {},
   "source": [
    "### Birthday Cake Candles"
   ]
  },
  {
   "cell_type": "code",
   "execution_count": null,
   "metadata": {},
   "outputs": [],
   "source": [
    "#!/bin/python3\n",
    "\n",
    "import math\n",
    "import os\n",
    "import random\n",
    "import re\n",
    "import sys\n",
    "\n",
    "#\n",
    "# Complete the 'birthdayCakeCandles' function below.\n",
    "#\n",
    "# The function is expected to return an INTEGER.\n",
    "# The function accepts INTEGER_ARRAY candles as parameter.\n",
    "#\n",
    "def birthdayCakeCandles(candles):\n",
    "    count = 0\n",
    "    maximum = max(candles)\n",
    "    for candle in candles:\n",
    "        if candle==maximum:\n",
    "            count += 1\n",
    "    return count\n",
    "\n",
    "if __name__ == '__main__':\n",
    "    fptr = open(os.environ['OUTPUT_PATH'], 'w')\n",
    "\n",
    "    candles_count = int(input().strip())\n",
    "\n",
    "    candles = list(map(int, input().rstrip().split()))\n",
    "\n",
    "    result = birthdayCakeCandles(candles)\n",
    "\n",
    "    fptr.write(str(result) + '\\n')\n",
    "\n",
    "    fptr.close()"
   ]
  },
  {
   "cell_type": "markdown",
   "metadata": {},
   "source": [
    "### Number Line Jumps"
   ]
  },
  {
   "cell_type": "code",
   "execution_count": null,
   "metadata": {},
   "outputs": [],
   "source": [
    "#!/bin/python3\n",
    "\n",
    "import math\n",
    "import os\n",
    "import random\n",
    "import re\n",
    "import sys\n",
    "\n",
    "def kangaroo(x1, v1, x2, v2):\n",
    "    check = None\n",
    "    pos1, pos2 = x1, x2\n",
    "    min_pos = min([pos1, pos2])\n",
    "    max_pos = max([pos1, pos2])\n",
    "    min_v = min([v1 , v2])\n",
    "    max_v = max([v1 , v2])\n",
    "    if v1 < v2:\n",
    "        check = False\n",
    "        while(pos2 <= pos1):\n",
    "            pos2 += v2\n",
    "            pos1 += v1\n",
    "            if (pos2==pos1):\n",
    "                check = True\n",
    "                break\n",
    "    elif v1 > v2:\n",
    "        check = False\n",
    "        while(pos1 <= pos2):\n",
    "            pos2 += v2\n",
    "            pos1 += v1\n",
    "            if (pos2==pos1):\n",
    "                check = True\n",
    "                break\n",
    "    else:\n",
    "        if pos1 == pos2:\n",
    "            check = True\n",
    "        else:\n",
    "            check = False\n",
    "    \n",
    "    if check == True:\n",
    "        result = \"YES\"\n",
    "    elif check == False:\n",
    "        result = \"NO\"\n",
    "    else: \n",
    "        result = check\n",
    "    return result\n",
    "\n",
    "if __name__ == '__main__':\n",
    "    fptr = open(os.environ['OUTPUT_PATH'], 'w')\n",
    "\n",
    "    first_multiple_input = input().rstrip().split()\n",
    "\n",
    "    x1 = int(first_multiple_input[0])\n",
    "\n",
    "    v1 = int(first_multiple_input[1])\n",
    "\n",
    "    x2 = int(first_multiple_input[2])\n",
    "\n",
    "    v2 = int(first_multiple_input[3])\n",
    "\n",
    "    result = kangaroo(x1, v1, x2, v2)\n",
    "\n",
    "    fptr.write(result + '\\n')\n",
    "\n",
    "    fptr.close()"
   ]
  },
  {
   "cell_type": "markdown",
   "metadata": {},
   "source": [
    "### Viral Advertising"
   ]
  },
  {
   "cell_type": "code",
   "execution_count": null,
   "metadata": {},
   "outputs": [],
   "source": [
    "#!/bin/python3\n",
    "\n",
    "import math\n",
    "import os\n",
    "import random\n",
    "import re\n",
    "import sys\n",
    "\n",
    "def viralAdvertising(n):\n",
    "    \n",
    "    rec = 5\n",
    "    total_likes = 0\n",
    "    for day in range (n):\n",
    "        \n",
    "        likes = math.floor(rec/2)\n",
    "        total_likes += likes\n",
    "        rec = likes*3\n",
    "    return total_likes\n",
    "        \n",
    "\n",
    "if __name__ == '__main__':\n",
    "    fptr = open(os.environ['OUTPUT_PATH'], 'w')\n",
    "\n",
    "    n = int(input().strip())\n",
    "\n",
    "    result = viralAdvertising(n)\n",
    "\n",
    "    fptr.write(str(result) + '\\n')\n",
    "\n",
    "    fptr.close()"
   ]
  },
  {
   "cell_type": "markdown",
   "metadata": {},
   "source": [
    "### Recursive Digit Sum"
   ]
  },
  {
   "cell_type": "code",
   "execution_count": null,
   "metadata": {},
   "outputs": [],
   "source": [
    "#!/bin/python3\n",
    "\n",
    "import math\n",
    "import os\n",
    "import random\n",
    "import re\n",
    "import sys\n",
    "\n",
    "def superDigit(n, k):\n",
    "    p = \"\"\n",
    "    for _ in range(k):\n",
    "        p += n\n",
    "\n",
    "    while(len(p)>1):\n",
    "        super_dig = 0\n",
    "        for char in p:\n",
    "            super_dig+=int(char)\n",
    "        p = str(super_dig)\n",
    "    return super_dig\n",
    "\n",
    "if __name__ == '__main__':\n",
    "    nn = '123456121113'\n",
    "    kk = 10000\n",
    "    x = superDigit(nn, kk)\n",
    "    print(x)"
   ]
  },
  {
   "cell_type": "markdown",
   "metadata": {},
   "source": [
    "### Insertion Sort - Part 1"
   ]
  },
  {
   "cell_type": "code",
   "execution_count": null,
   "metadata": {},
   "outputs": [],
   "source": [
    "#!/bin/python\n",
    "\n",
    "import math\n",
    "import os\n",
    "import random\n",
    "import re\n",
    "import sys\n",
    "\n",
    "\n",
    "def insertionSort1(n, arr):\n",
    "    temp = arr[-1]\n",
    "    \n",
    "    for i in range(n-2, -1, -1):\n",
    "        if arr[i] > temp:\n",
    "            arr[i+1] = arr[i]\n",
    "            print(*arr)\n",
    "      \n",
    "        if arr[i] < temp:\n",
    "            arr[i+1] = temp\n",
    "            print(*arr)\n",
    "            break\n",
    "        if(i==0):\n",
    "            arr[i] = temp\n",
    "            print(*arr)  \n",
    "if __name__ == '__main__':\n",
    "    n = int(input().strip())\n",
    "\n",
    "    arr = list(map(int, input().rstrip().split()))\n",
    "\n",
    "    insertionSort1(n, arr)"
   ]
  },
  {
   "cell_type": "markdown",
   "metadata": {},
   "source": [
    "### Insertion Sort - Part 2"
   ]
  },
  {
   "cell_type": "code",
   "execution_count": null,
   "metadata": {},
   "outputs": [],
   "source": [
    "#!/bin/python3\n",
    "\n",
    "import math\n",
    "import os\n",
    "import random\n",
    "import re\n",
    "import sys\n",
    "\n",
    "\n",
    "def insertionSort2(n, arr):\n",
    "    for i in range(1, n):\n",
    "        temp = arr[i]\n",
    "        j = i-1\n",
    "        while j >= 0 and temp < arr[j] :\n",
    "                arr[j + 1] = arr[j]\n",
    "                j -= 1\n",
    "        arr[j + 1] = temp\n",
    "        print(*arr)\n",
    "\n",
    "if __name__ == '__main__':\n",
    "    n = int(input().strip())\n",
    "\n",
    "    arr = list(map(int, input().rstrip().split()))\n",
    "\n",
    "    insertionSort2(n, arr)"
   ]
  }
 ],
 "metadata": {
  "kernelspec": {
   "display_name": "Python 3",
   "language": "python",
   "name": "python3"
  },
  "language_info": {
   "codemirror_mode": {
    "name": "ipython",
    "version": 3
   },
   "file_extension": ".py",
   "mimetype": "text/x-python",
   "name": "python",
   "nbconvert_exporter": "python",
   "pygments_lexer": "ipython3",
   "version": "3.8.5"
  }
 },
 "nbformat": 4,
 "nbformat_minor": 4
}
